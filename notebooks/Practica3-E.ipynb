{
 "cells": [
  {
   "cell_type": "markdown",
   "metadata": {},
   "source": [
    "Adrià Melús - 1527144"
   ]
  },
  {
   "cell_type": "markdown",
   "metadata": {},
   "source": [
    "# Pràctica 3 d'APC"
   ]
  },
  {
   "cell_type": "markdown",
   "metadata": {},
   "source": [
    "## 1.Introducció"
   ]
  },
  {
   "cell_type": "markdown",
   "metadata": {},
   "source": [
    "Elon Musk és considerada la persona amb més diners del planeta actualment; és el director executiu de la empresa aerospacial SpaceX i de la d'automòvils elèctrics Tesla, i fa poc va rebre el títol de la persona del any per part de la revista Time. "
   ]
  },
  {
   "cell_type": "markdown",
   "metadata": {},
   "source": [
    "Elon Musk també és algú que destaca per la seva activitat a Twitter, on publica memes o frases que deixen a tot el món pensant si realment les diu en serio. Mai està massa ocupat per comentar alguna broma o un pensament espontani. Tot i això, els seus intents per semblar graciós, per lo general acaben mosrant la seva irresponsabilitat al publicar tantes afirmacions confuses, insensibles o incorrectes."
   ]
  },
  {
   "cell_type": "markdown",
   "metadata": {},
   "source": [
    "En honor al seu nou títol, que segons la publicació és otorgat a \"la persona o persones que més han afectat les notícies i les nostres vides, cap a bé o cap a malament\"."
   ]
  },
  {
   "cell_type": "markdown",
   "metadata": {},
   "source": [
    "Aquest és l'informe de  l'anàlisi de resultats en aprenentatge computacional d'una base de dades de kaggle que conté més de 25.000 tweets d'Elon Musk: https://www.kaggle.com/taruntiwarihp/elon-musk-tweets"
   ]
  },
  {
   "cell_type": "markdown",
   "metadata": {},
   "source": [
    "El propòsit principal d'aquest anàlisi és el de predir el sentiment d'un tweet segons sigui positiu o negatiu:"
   ]
  },
  {
   "cell_type": "markdown",
   "metadata": {},
   "source": [
    "<img src=\"../figures/positive-negative.jpg\">"
   ]
  },
  {
   "cell_type": "markdown",
   "metadata": {},
   "source": []
  },
  {
   "cell_type": "markdown",
   "metadata": {},
   "source": [
    "Following topics would be covered as an outline for this article:\n",
    "\n",
    "Data cleaning and preparation.\n",
    "Analysis of the data.\n",
    "Analysis and preprocessing text with NLTK.\n",
    "Resampling data.\n",
    "Model creation to predict sentiment.\n"
   ]
  },
  {
   "cell_type": "markdown",
   "metadata": {},
   "source": [
    "### LLibreries"
   ]
  },
  {
   "cell_type": "markdown",
   "metadata": {},
   "source": [
    "Per aquest projecte haurem de instalar les seguents llibreries:\n",
    "\n",
    "Matplotlib, seaborn i wordcloud per la visualització gràfica de dades.\n",
    "\n",
    "Pandas i numpy pel tractament d'informació.\n",
    "\n",
    "SkLearn per l'entrenament dels nostres models.\n",
    "\n",
    "NLTK pel processament de text.\n",
    "\n",
    "imblearn pel \"resampling\" de la informació."
   ]
  },
  {
   "cell_type": "code",
   "execution_count": 2,
   "metadata": {},
   "outputs": [],
   "source": [
    "# Import \n",
    "import numpy as np\n",
    "import pandas as pd\n",
    "import seaborn as sns\n",
    "import matplotlib.pyplot as plt\n",
    "import string\n",
    "import scikitplot as skplt\n",
    "import plotly.graph_objs as go\n",
    "import nltk\n",
    "\n",
    "from nltk.tokenize import RegexpTokenizer\n",
    "from nltk.corpus import stopwords\n",
    "from nltk.sentiment.vader import SentimentIntensityAnalyzer\n",
    "\n",
    "from wordcloud import WordCloud, STOPWORDS\n",
    "from prettytable import PrettyTable\n",
    "from plotly.offline import iplot\n",
    "\n",
    "from imblearn.combine import SMOTETomek\n",
    "\n",
    "from sklearn.feature_extraction.text import CountVectorizer\n",
    "from sklearn.model_selection import train_test_split\n",
    "from sklearn.linear_model import LogisticRegression\n",
    "from sklearn.ensemble import RandomForestClassifier\n",
    "from sklearn.naive_bayes import MultinomialNB\n",
    "from sklearn.svm import SVC\n",
    "from sklearn.neural_network import MLPClassifier\n",
    "from sklearn.metrics import accuracy_score, confusion_matrix, classification_report\n",
    "\n",
    "nltk.download('stopwords', quiet=True);\n",
    "nltk.download('vader_lexicon', quiet=True);"
   ]
  },
  {
   "cell_type": "markdown",
   "metadata": {},
   "source": [
    "## 2. Informació de les dades"
   ]
  },
  {
   "cell_type": "markdown",
   "metadata": {},
   "source": [
    "Primer de tot observarem detalladament les dades i les entendrem. A continuació, si és necessari, netejarem el dataset i el prepararem per analitzar-lo."
   ]
  },
  {
   "cell_type": "code",
   "execution_count": 3,
   "metadata": {},
   "outputs": [
    {
     "data": {
      "text/html": [
       "<div>\n",
       "<style scoped>\n",
       "    .dataframe tbody tr th:only-of-type {\n",
       "        vertical-align: middle;\n",
       "    }\n",
       "\n",
       "    .dataframe tbody tr th {\n",
       "        vertical-align: top;\n",
       "    }\n",
       "\n",
       "    .dataframe thead th {\n",
       "        text-align: right;\n",
       "    }\n",
       "</style>\n",
       "<table border=\"1\" class=\"dataframe\">\n",
       "  <thead>\n",
       "    <tr style=\"text-align: right;\">\n",
       "      <th></th>\n",
       "      <th>tweets</th>\n",
       "      <th>sentiment</th>\n",
       "    </tr>\n",
       "  </thead>\n",
       "  <tbody>\n",
       "    <tr>\n",
       "      <td>0</td>\n",
       "      <td>@elonmusk @realfuckingnews @business Ancient c...</td>\n",
       "      <td>pos</td>\n",
       "    </tr>\n",
       "  </tbody>\n",
       "</table>\n",
       "</div>"
      ],
      "text/plain": [
       "                                              tweets sentiment\n",
       "0  @elonmusk @realfuckingnews @business Ancient c...       pos"
      ]
     },
     "execution_count": 3,
     "metadata": {},
     "output_type": "execute_result"
    }
   ],
   "source": [
    "# Carregar el Dataset\n",
    "\n",
    "dataset = \"../dataset/Elon Musk.csv\"\n",
    "dades = pd.read_csv(dataset)\n",
    "\n",
    "# Eliminem la primera columna perquè es tracta d'un index que no ens fa falta\n",
    "dades.drop(dades.columns[0], inplace = True, axis = 1)\n",
    "dades.head(1)\n"
   ]
  },
  {
   "cell_type": "code",
   "execution_count": 4,
   "metadata": {},
   "outputs": [
    {
     "name": "stdout",
     "output_type": "stream",
     "text": [
      "Hi ha 2 columnes i 25757 files.\n",
      "tweets       object\n",
      "sentiment    object\n",
      "dtype: object\n"
     ]
    }
   ],
   "source": [
    "# Quantes files i columnes hi ha al dataset? Cada fila representa un tweet\n",
    "print(\"Hi ha {} columnes\".format(dades.shape[1]), \"i {} files.\".format(dades.shape[0]))\n",
    "print(dades.dtypes)"
   ]
  },
  {
   "cell_type": "markdown",
   "metadata": {},
   "source": [
    "Com es pot observar, aquest dataset conté 25757 files i 2 columnes. Cada fila correspon a un tweet i inclou dues variables:\n",
    "\n",
    "tweets: Variable de tipus object amb el contingut d'un tweet que cita @elonmusk.\n",
    "sentiment: Variable de tipus object que indica el sentiment del tweet. L'atribut sentiment pot prendre dos valors: pos (positiu) o neg (negatiu)"
   ]
  },
  {
   "cell_type": "markdown",
   "metadata": {},
   "source": [
    "Comprovem si hi ha cap valor nul:"
   ]
  },
  {
   "cell_type": "code",
   "execution_count": 5,
   "metadata": {},
   "outputs": [
    {
     "data": {
      "text/plain": [
       "Series([], dtype: int64)"
      ]
     },
     "execution_count": 5,
     "metadata": {},
     "output_type": "execute_result"
    }
   ],
   "source": [
    "null_counts = dades.isnull().sum()\n",
    "null_counts[null_counts>0]"
   ]
  },
  {
   "cell_type": "markdown",
   "metadata": {},
   "source": [
    "No s'ha trobat cap valor null o Nan, per tant no farà falta eliminar cap fila, de moment."
   ]
  },
  {
   "cell_type": "markdown",
   "metadata": {},
   "source": [
    "## 3. Anàlisi de la informació"
   ]
  },
  {
   "cell_type": "code",
   "execution_count": null,
   "metadata": {},
   "outputs": [],
   "source": []
  },
  {
   "cell_type": "code",
   "execution_count": 6,
   "metadata": {},
   "outputs": [
    {
     "data": {
      "text/html": [
       "<div>\n",
       "<style scoped>\n",
       "    .dataframe tbody tr th:only-of-type {\n",
       "        vertical-align: middle;\n",
       "    }\n",
       "\n",
       "    .dataframe tbody tr th {\n",
       "        vertical-align: top;\n",
       "    }\n",
       "\n",
       "    .dataframe thead th {\n",
       "        text-align: right;\n",
       "    }\n",
       "</style>\n",
       "<table border=\"1\" class=\"dataframe\">\n",
       "  <thead>\n",
       "    <tr style=\"text-align: right;\">\n",
       "      <th></th>\n",
       "      <th>tweets</th>\n",
       "      <th>sentiment</th>\n",
       "    </tr>\n",
       "  </thead>\n",
       "  <tbody>\n",
       "    <tr>\n",
       "      <td>unique</td>\n",
       "      <td>25418</td>\n",
       "      <td>2</td>\n",
       "    </tr>\n",
       "    <tr>\n",
       "      <td>top</td>\n",
       "      <td>@Twitter @elonmusk</td>\n",
       "      <td>pos</td>\n",
       "    </tr>\n",
       "    <tr>\n",
       "      <td>freq</td>\n",
       "      <td>67</td>\n",
       "      <td>22725</td>\n",
       "    </tr>\n",
       "  </tbody>\n",
       "</table>\n",
       "</div>"
      ],
      "text/plain": [
       "                    tweets sentiment\n",
       "unique               25418         2\n",
       "top     @Twitter @elonmusk       pos\n",
       "freq                    67     22725"
      ]
     },
     "execution_count": 6,
     "metadata": {},
     "output_type": "execute_result"
    }
   ],
   "source": [
    "dades.describe(exclude=[np.number]).drop(\"count\")"
   ]
  },
  {
   "cell_type": "markdown",
   "metadata": {},
   "source": [
    "Hem vist que el dataset té tan sols dues variables rellevants on una és categòrica. Com es pot observar, hi ha 25.418 tweets únics i dos valors únics (pos i neg) de la variable sentiment."
   ]
  },
  {
   "cell_type": "markdown",
   "metadata": {},
   "source": [
    "Ara anem a visualitzar gràficament la distribució de la variable objectiu sentiment "
   ]
  },
  {
   "cell_type": "code",
   "execution_count": 15,
   "metadata": {},
   "outputs": [],
   "source": [
    "# Funció per la visualització en un gràfic de barres per la distribució de l'atribut x que es pasa com a paràmetre \n",
    "def plot_distributionCount(x, data):\n",
    "    plt.subplots(figsize=(6, 4))\n",
    "    sns.countplot(x=x, data=data, order=data[x].value_counts().index, palette='icefire_r')\n",
    "    plt.xlabel('sentiment')\n",
    "    plt.tight_layout()\n",
    "    plt.show()"
   ]
  },
  {
   "cell_type": "code",
   "execution_count": 16,
   "metadata": {},
   "outputs": [
    {
     "data": {
      "image/png": "[encoded data removed]",
      "text/plain": [
       "<Figure size 432x288 with 1 Axes>"
      ]
     },
     "metadata": {
      "needs_background": "light"
     },
     "output_type": "display_data"
    }
   ],
   "source": [
    "plot_distributionCount('sentiment',dades)"
   ]
  },
  {
   "cell_type": "markdown",
   "metadata": {},
   "source": [
    "Com es pot observar, l'atribut sentiment prèn el valor positiu (88%) amb molta més freqüència que el negatiu (12%)."
   ]
  },
  {
   "cell_type": "markdown",
   "metadata": {},
   "source": [
    "### 3.1. Anàlisi i neteja de tweets"
   ]
  },
  {
   "cell_type": "markdown",
   "metadata": {},
   "source": [
    "Una vegada hem analitzat la informació i les variables de les que disposem, començarem a analitzar el text dels tweets. El tractament de tweets és important per tal de que posteriorment el text encaixi amb un model d'aprenentatge computacional  correctament.  "
   ]
  },
  {
   "cell_type": "code",
   "execution_count": 28,
   "metadata": {},
   "outputs": [
    {
     "data": {
      "text/html": [
       "<div>\n",
       "<style scoped>\n",
       "    .dataframe tbody tr th:only-of-type {\n",
       "        vertical-align: middle;\n",
       "    }\n",
       "\n",
       "    .dataframe tbody tr th {\n",
       "        vertical-align: top;\n",
       "    }\n",
       "\n",
       "    .dataframe thead th {\n",
       "        text-align: right;\n",
       "    }\n",
       "</style>\n",
       "<table border=\"1\" class=\"dataframe\">\n",
       "  <thead>\n",
       "    <tr style=\"text-align: right;\">\n",
       "      <th></th>\n",
       "      <th>tweets</th>\n",
       "      <th>sentiment</th>\n",
       "    </tr>\n",
       "  </thead>\n",
       "  <tbody>\n",
       "    <tr>\n",
       "      <td>16566</td>\n",
       "      <td>@business No- it indicates that VW would happily spin-off its exotic high performance to try and bridge the autonom… https://t.co/xq0B5uLC4t</td>\n",
       "      <td>pos</td>\n",
       "    </tr>\n",
       "    <tr>\n",
       "      <td>12779</td>\n",
       "      <td>@C_TwiterGod @Zombie1860 @Shanticipation7 @Donald44mohmed @yassineARK @Toure @elonmusk And this https://t.co/6g192ts51t</td>\n",
       "      <td>pos</td>\n",
       "    </tr>\n",
       "    <tr>\n",
       "      <td>6703</td>\n",
       "      <td>@elonmusk @NASA Why are we obsessed about exploring Mars as a potential habitable planet, when our own planet needs… https://t.co/qrO5FOje0f</td>\n",
       "      <td>neg</td>\n",
       "    </tr>\n",
       "    <tr>\n",
       "      <td>12282</td>\n",
       "      <td>RT @Kateling17: We question everything all the time, but what we should definitely not doubt is in the quality of @Tesla cars,you can trust…</td>\n",
       "      <td>pos</td>\n",
       "    </tr>\n",
       "    <tr>\n",
       "      <td>6047</td>\n",
       "      <td>@bmlouiss @impostor_yellow @elonmusk @NASA Haha</td>\n",
       "      <td>pos</td>\n",
       "    </tr>\n",
       "  </tbody>\n",
       "</table>\n",
       "</div>"
      ],
      "text/plain": [
       "                                                                                                                                             tweets  \\\n",
       "16566  @business No- it indicates that VW would happily spin-off its exotic high performance to try and bridge the autonom… https://t.co/xq0B5uLC4t   \n",
       "12779                       @C_TwiterGod @Zombie1860 @Shanticipation7 @Donald44mohmed @yassineARK @Toure @elonmusk And this https://t.co/6g192ts51t   \n",
       "6703   @elonmusk @NASA Why are we obsessed about exploring Mars as a potential habitable planet, when our own planet needs… https://t.co/qrO5FOje0f   \n",
       "12282  RT @Kateling17: We question everything all the time, but what we should definitely not doubt is in the quality of @Tesla cars,you can trust…   \n",
       "6047                                                                                                @bmlouiss @impostor_yellow @elonmusk @NASA Haha   \n",
       "\n",
       "      sentiment  \n",
       "16566       pos  \n",
       "12779       pos  \n",
       "6703        neg  \n",
       "12282       pos  \n",
       "6047        pos  "
      ]
     },
     "execution_count": 28,
     "metadata": {},
     "output_type": "execute_result"
    }
   ],
   "source": [
    "pd.set_option('max_colwidth', 700)\n",
    "dades[['tweets', 'sentiment']].sample(5)"
   ]
  },
  {
   "cell_type": "markdown",
   "metadata": {},
   "source": [
    "Natural Language Toolkit (NLTK) és un conjunt de biblioteques i programes que ajuden al processament del llenguatge natural. Utilitzarem les eines que proporciona NLTK per \"netejar\" els tweets, és a dir, dividir-los en paraules i controlar la puntuació, els números, les @cites o les paraules buides."
   ]
  },
  {
   "cell_type": "code",
   "execution_count": null,
   "metadata": {},
   "outputs": [],
   "source": []
  },
  {
   "cell_type": "code",
   "execution_count": null,
   "metadata": {},
   "outputs": [],
   "source": []
  },
  {
   "cell_type": "markdown",
   "metadata": {},
   "source": [
    "Aquesta funció converteix el tweet que es passa com a paràmetre en un text en minúscula, esborrra els numeros i puntuacions i separa el text en diferents paraules."
   ]
  },
  {
   "cell_type": "code",
   "execution_count": null,
   "metadata": {},
   "outputs": [],
   "source": []
  },
  {
   "cell_type": "code",
   "execution_count": null,
   "metadata": {},
   "outputs": [],
   "source": [
    "## HACER VARIAS PRUEBAS REMOVIENTDO X O Y"
   ]
  },
  {
   "cell_type": "code",
   "execution_count": null,
   "metadata": {},
   "outputs": [],
   "source": []
  },
  {
   "cell_type": "markdown",
   "metadata": {},
   "source": [
    "## Mètode d'aprenentatge computacional aplicat,"
   ]
  },
  {
   "cell_type": "code",
   "execution_count": null,
   "metadata": {},
   "outputs": [],
   "source": []
  },
  {
   "cell_type": "markdown",
   "metadata": {},
   "source": [
    "## Resultats"
   ]
  },
  {
   "cell_type": "code",
   "execution_count": null,
   "metadata": {},
   "outputs": [],
   "source": []
  },
  {
   "cell_type": "markdown",
   "metadata": {},
   "source": [
    "## 6. Conclusions\n"
   ]
  },
  {
   "cell_type": "code",
   "execution_count": null,
   "metadata": {},
   "outputs": [],
   "source": []
  },
  {
   "cell_type": "code",
   "execution_count": null,
   "metadata": {},
   "outputs": [],
   "source": [
    "## Conclusions"
   ]
  }
 ],
 "metadata": {
  "kernelspec": {
   "display_name": "Python 3",
   "language": "python",
   "name": "python3"
  },
  "language_info": {
   "codemirror_mode": {
    "name": "ipython",
    "version": 3
   },
   "file_extension": ".py",
   "mimetype": "text/x-python",
   "name": "python",
   "nbconvert_exporter": "python",
   "pygments_lexer": "ipython3",
   "version": "3.7.4"
  }
 },
 "nbformat": 4,
 "nbformat_minor": 4
}
